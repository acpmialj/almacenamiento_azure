{
 "cells": [
  {
   "cell_type": "code",
   "execution_count": null,
   "metadata": {},
   "outputs": [],
   "source": [
    "import pyodbc \n",
    "\n",
    "server = 'tcp:ipmdsqlserver.database.windows.net,1433' \n",
    "database = 'ipmdsql' \n",
    "username = 'ipmdadmin' \n",
    "password = 'IPMD*adminpass' \n",
    "cnxn = pyodbc.connect('DRIVER={SQL Server};SERVER='+server+';DATABASE='+database+';ENCRYPT=yes;UID='+username+';PWD='+ password)\n",
    "cursor = cnxn.cursor()"
   ]
  },
  {
   "cell_type": "code",
   "execution_count": null,
   "metadata": {},
   "outputs": [],
   "source": [
    "cursor.execute(\"SELECT @@version;\") \n",
    "row = cursor.fetchone() \n",
    "while row: \n",
    "    print(row[0])\n",
    "    row = cursor.fetchone()"
   ]
  },
  {
   "cell_type": "code",
   "execution_count": null,
   "metadata": {},
   "outputs": [],
   "source": [
    "cursor.execute(\"\"\"SELECT TOP 20 pc.Name as CategoryName, p.name as ProductName\n",
    "FROM SalesLT.ProductCategory pc\n",
    "JOIN SalesLT.Product p\n",
    "ON pc.productcategoryid = p.productcategoryid;\"\"\")\n",
    "row = cursor.fetchone()\n",
    "print(\"Category name, Product name\")\n",
    "while row:\n",
    "    print(row)\n",
    "    row=cursor.fetchone()"
   ]
  }
 ],
 "metadata": {
  "kernelspec": {
   "display_name": "Python 3",
   "language": "python",
   "name": "python3"
  },
  "language_info": {
   "codemirror_mode": {
    "name": "ipython",
    "version": 3
   },
   "file_extension": ".py",
   "mimetype": "text/x-python",
   "name": "python",
   "nbconvert_exporter": "python",
   "pygments_lexer": "ipython3",
   "version": "3.10.12"
  },
  "orig_nbformat": 4
 },
 "nbformat": 4,
 "nbformat_minor": 2
}
