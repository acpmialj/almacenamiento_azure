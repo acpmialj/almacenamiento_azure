{
 "cells": [
  {
   "cell_type": "code",
   "execution_count": 67,
   "metadata": {},
   "outputs": [],
   "source": [
    "import os, uuid, shutil\n",
    "\n",
    "from azure.identity import DefaultAzureCredential\n",
    "from azure.storage.blob import BlobServiceClient, BlobClient, ContainerClient\n",
    "\n",
    "# Set connection string\n",
    "connect_str = \"DefaultEndpointsProtocol=https;EndpointSuffix=core.windows.net;AccountName=ipmdstorage;AccountKey=ppBBF6MHL2KSfKBSPCdHX4RPTPHbu02G2Yqv51rdZqvVcCQ3zdFtECH59ZsNTTPThPa77XGFBAsu+ASt7xmKTw==;BlobEndpoint=https://ipmdstorage.blob.core.windows.net/;FileEndpoint=https://ipmdstorage.file.core.windows.net/;QueueEndpoint=https://ipmdstorage.queue.core.windows.net/;TableEndpoint=https://ipmdstorage.table.core.windows.net/\"\n",
    "\n",
    "# Create the BlobServiceClient object\n",
    "blob_service_client = BlobServiceClient.from_connection_string(connect_str)"
   ]
  },
  {
   "cell_type": "code",
   "execution_count": 68,
   "metadata": {},
   "outputs": [
    {
     "name": "stdout",
     "output_type": "stream",
     "text": [
      "El contenedor no se puede crear (ya existe)\n"
     ]
    }
   ],
   "source": [
    "# Create container\n",
    "container_name = \"ipmdcontainer\"\n",
    "try:\n",
    "    container_client = blob_service_client.create_container(container_name)\n",
    "except:\n",
    "    print(\"El contenedor no se puede crear (ya existe)\")    \n",
    "    container_client = blob_service_client.get_container_client(container_name)"
   ]
  },
  {
   "cell_type": "code",
   "execution_count": 69,
   "metadata": {},
   "outputs": [
    {
     "name": "stdout",
     "output_type": "stream",
     "text": [
      "\n",
      "Uploading to Azure Storage as blob:\n",
      "\t11ad7376-5a6c-44bf-b187-7d2cffcd355b.txt\n"
     ]
    }
   ],
   "source": [
    "# Create a local directory to hold blob data\n",
    "local_path = \"./data\"\n",
    "os.mkdir(local_path)\n",
    "\n",
    "# Create a file in the local data directory to upload and download\n",
    "local_file_name = str(uuid.uuid4()) + \".txt\"\n",
    "upload_file_path = os.path.join(local_path, local_file_name)\n",
    "\n",
    "# Write text to the file\n",
    "file = open(file=upload_file_path, mode='w')\n",
    "file.write(\"Hello, World!\")\n",
    "file.close()\n",
    "\n",
    "# Create a blob client using the local file name as the name for the blob\n",
    "blob_client = blob_service_client.get_blob_client(container=container_name, blob=local_file_name)\n",
    "\n",
    "print(\"\\nUploading to Azure Storage as blob:\\n\\t\" + local_file_name)\n",
    "\n",
    "# Upload the created file\n",
    "with open(file=upload_file_path, mode=\"rb\") as data:\n",
    "    blob_client.upload_blob(data)"
   ]
  },
  {
   "cell_type": "code",
   "execution_count": 70,
   "metadata": {},
   "outputs": [
    {
     "name": "stdout",
     "output_type": "stream",
     "text": [
      "\n",
      "Listing blobs...\n",
      "\t11ad7376-5a6c-44bf-b187-7d2cffcd355b.txt\n"
     ]
    }
   ],
   "source": [
    "print(\"\\nListing blobs...\")\n",
    "\n",
    "# List the blobs in the container\n",
    "blob_list = container_client.list_blobs()\n",
    "for blob in blob_list:\n",
    "    print(\"\\t\" + blob.name)"
   ]
  },
  {
   "cell_type": "code",
   "execution_count": 71,
   "metadata": {},
   "outputs": [
    {
     "name": "stdout",
     "output_type": "stream",
     "text": [
      "\n",
      "Downloading blob to \n",
      "\t./data\\11ad7376-5a6c-44bf-b187-7d2cffcd355bDOWNLOAD.txt\n"
     ]
    }
   ],
   "source": [
    "# Download the blob to a local file\n",
    "# Add 'DOWNLOAD' before the .txt extension so you can see both files in the data directory\n",
    "download_file_path = os.path.join(local_path, str.replace(local_file_name ,'.txt', 'DOWNLOAD.txt'))\n",
    "container_client = blob_service_client.get_container_client(container=container_name) \n",
    "print(\"\\nDownloading blob to \\n\\t\" + download_file_path)\n",
    "\n",
    "with open(file=download_file_path, mode=\"wb\") as download_file:\n",
    " download_file.write(container_client.download_blob(blob.name).readall())"
   ]
  },
  {
   "cell_type": "code",
   "execution_count": 72,
   "metadata": {},
   "outputs": [
    {
     "name": "stdout",
     "output_type": "stream",
     "text": [
      "Deleting the local source and downloaded files...\n",
      "Done\n"
     ]
    }
   ],
   "source": [
    "# Clean up\n",
    "\n",
    "print(\"Deleting the local source and downloaded files...\")\n",
    "os.remove(upload_file_path)\n",
    "os.remove(download_file_path)\n",
    "shutil.rmtree(local_path, ignore_errors=True)\n",
    "\n",
    "print(\"Done\")"
   ]
  },
  {
   "cell_type": "code",
   "execution_count": 73,
   "metadata": {},
   "outputs": [
    {
     "name": "stdout",
     "output_type": "stream",
     "text": [
      "Deleting the blob...\n",
      "Done\n"
     ]
    }
   ],
   "source": [
    "print(\"Deleting the blob...\")\n",
    "container_client.delete_blob(blob.name)\n",
    "print(\"Done\")"
   ]
  },
  {
   "cell_type": "code",
   "execution_count": 74,
   "metadata": {},
   "outputs": [
    {
     "name": "stdout",
     "output_type": "stream",
     "text": [
      "Deleting blob container...\n"
     ]
    }
   ],
   "source": [
    "print(\"Deleting blob container...\")\n",
    "container_client.delete_container()"
   ]
  },
  {
   "cell_type": "code",
   "execution_count": null,
   "metadata": {},
   "outputs": [],
   "source": []
  }
 ],
 "metadata": {
  "kernelspec": {
   "display_name": "Python 3",
   "language": "python",
   "name": "python3"
  },
  "language_info": {
   "codemirror_mode": {
    "name": "ipython",
    "version": 3
   },
   "file_extension": ".py",
   "mimetype": "text/x-python",
   "name": "python",
   "nbconvert_exporter": "python",
   "pygments_lexer": "ipython3",
   "version": "3.11.8"
  },
  "orig_nbformat": 4
 },
 "nbformat": 4,
 "nbformat_minor": 2
}
