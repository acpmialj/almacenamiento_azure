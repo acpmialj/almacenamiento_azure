{
 "cells": [
  {
   "cell_type": "code",
   "execution_count": 8,
   "metadata": {},
   "outputs": [],
   "source": [
    "import pyodbc \n",
    "# Some other example server values are\n",
    "# server = 'localhost\\sqlexpress' # for a named instance\n",
    "# server = 'myserver,port' # to specify an alternate port\n",
    "server = 'tcp:ipmdsqlserver.database.windows.net,1433' \n",
    "database = 'ipmdsql' \n",
    "username = 'ipmdadmin' \n",
    "password = 'xxxxx' \n",
    "# ENCRYPT defaults to yes starting in ODBC Driver 18. It's good to always specify ENCRYPT=yes on the client side to avoid MITM attacks.\n",
    "cnxn = pyodbc.connect('DRIVER={SQL Server};SERVER='+server+';DATABASE='+database+';ENCRYPT=yes;UID='+username+';PWD='+ password)\n",
    "cursor = cnxn.cursor()"
   ]
  },
  {
   "cell_type": "code",
   "execution_count": 9,
   "metadata": {},
   "outputs": [
    {
     "name": "stdout",
     "output_type": "stream",
     "text": [
      "Microsoft SQL Azure (RTM) - 12.0.2000.8 \n",
      "\tMay 22 2023 22:22:02 \n",
      "\tCopyright (C) 2022 Microsoft Corporation\n",
      "\n"
     ]
    }
   ],
   "source": [
    "#Sample select query\n",
    "cursor.execute(\"SELECT @@version;\") \n",
    "row = cursor.fetchone() \n",
    "while row: \n",
    "    print(row[0])\n",
    "    row = cursor.fetchone()"
   ]
  },
  {
   "cell_type": "code",
   "execution_count": 11,
   "metadata": {},
   "outputs": [
    {
     "name": "stdout",
     "output_type": "stream",
     "text": [
      "Category name, Product name\n",
      "('Road Frames', 'HL Road Frame - Black, 58')\n",
      "('Road Frames', 'HL Road Frame - Red, 58')\n",
      "('Helmets', 'Sport-100 Helmet, Red')\n",
      "('Helmets', 'Sport-100 Helmet, Black')\n",
      "('Socks', 'Mountain Bike Socks, M')\n",
      "('Socks', 'Mountain Bike Socks, L')\n",
      "('Helmets', 'Sport-100 Helmet, Blue')\n",
      "('Caps', 'AWC Logo Cap')\n",
      "('Jerseys', 'Long-Sleeve Logo Jersey, S')\n",
      "('Jerseys', 'Long-Sleeve Logo Jersey, M')\n",
      "('Jerseys', 'Long-Sleeve Logo Jersey, L')\n",
      "('Jerseys', 'Long-Sleeve Logo Jersey, XL')\n",
      "('Road Frames', 'HL Road Frame - Red, 62')\n",
      "('Road Frames', 'HL Road Frame - Red, 44')\n",
      "('Road Frames', 'HL Road Frame - Red, 48')\n",
      "('Road Frames', 'HL Road Frame - Red, 52')\n",
      "('Road Frames', 'HL Road Frame - Red, 56')\n",
      "('Road Frames', 'LL Road Frame - Black, 58')\n",
      "('Road Frames', 'LL Road Frame - Black, 60')\n",
      "('Road Frames', 'LL Road Frame - Black, 62')\n"
     ]
    }
   ],
   "source": [
    "res = cursor.execute(\"\"\"SELECT TOP 20 pc.Name as CategoryName, p.name as ProductName\n",
    "FROM SalesLT.ProductCategory pc\n",
    "JOIN SalesLT.Product p\n",
    "ON pc.productcategoryid = p.productcategoryid;\"\"\")\n",
    "row = res.fetchone()\n",
    "print(\"Category name, Product name\")\n",
    "while row:\n",
    "    print(row)\n",
    "    row=res.fetchone()"
   ]
  },
  {
   "cell_type": "code",
   "execution_count": null,
   "metadata": {},
   "outputs": [],
   "source": []
  }
 ],
 "metadata": {
  "kernelspec": {
   "display_name": "Python 3",
   "language": "python",
   "name": "python3"
  },
  "language_info": {
   "codemirror_mode": {
    "name": "ipython",
    "version": 3
   },
   "file_extension": ".py",
   "mimetype": "text/x-python",
   "name": "python",
   "nbconvert_exporter": "python",
   "pygments_lexer": "ipython3",
   "version": "3.11.4"
  },
  "orig_nbformat": 4
 },
 "nbformat": 4,
 "nbformat_minor": 2
}
