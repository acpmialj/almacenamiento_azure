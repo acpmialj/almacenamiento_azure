{
 "cells": [
  {
   "cell_type": "code",
   "execution_count": 15,
   "metadata": {},
   "outputs": [],
   "source": [
    "import pymssql \n",
    "\n",
    "server = 'ipmdsqlserver.database.windows.net' \n",
    "database = 'ipmdsql' \n",
    "username = 'ipmdadmin' \n",
    "password = 'IPMD*adminpass' \n",
    "cnxn = pymssql.connect(server, username, password, database)\n",
    "cursor = cnxn.cursor()"
   ]
  },
  {
   "cell_type": "code",
   "execution_count": 16,
   "metadata": {},
   "outputs": [
    {
     "name": "stdout",
     "output_type": "stream",
     "text": [
      "Microsoft SQL Azure (RTM) - 12.0.2000.8 \n",
      "\tOct  2 2024 11:51:41 \n",
      "\tCopyright (C) 2022 Microsoft Corporation\n",
      "\n"
     ]
    }
   ],
   "source": [
    "cursor.execute(\"SELECT @@version;\") \n",
    "row = cursor.fetchone() \n",
    "while row: \n",
    "    print(row[0])\n",
    "    row = cursor.fetchone()"
   ]
  },
  {
   "cell_type": "code",
   "execution_count": 17,
   "metadata": {},
   "outputs": [
    {
     "name": "stdout",
     "output_type": "stream",
     "text": [
      "Category name, Product name\n",
      "('Road Frames', 'HL Road Frame - Black, 58')\n",
      "('Road Frames', 'HL Road Frame - Red, 58')\n",
      "('Helmets', 'Sport-100 Helmet, Red')\n",
      "('Helmets', 'Sport-100 Helmet, Black')\n",
      "('Socks', 'Mountain Bike Socks, M')\n",
      "('Socks', 'Mountain Bike Socks, L')\n",
      "('Helmets', 'Sport-100 Helmet, Blue')\n",
      "('Caps', 'AWC Logo Cap')\n",
      "('Jerseys', 'Long-Sleeve Logo Jersey, S')\n",
      "('Jerseys', 'Long-Sleeve Logo Jersey, M')\n",
      "('Jerseys', 'Long-Sleeve Logo Jersey, L')\n",
      "('Jerseys', 'Long-Sleeve Logo Jersey, XL')\n",
      "('Road Frames', 'HL Road Frame - Red, 62')\n",
      "('Road Frames', 'HL Road Frame - Red, 44')\n",
      "('Road Frames', 'HL Road Frame - Red, 48')\n",
      "('Road Frames', 'HL Road Frame - Red, 52')\n",
      "('Road Frames', 'HL Road Frame - Red, 56')\n",
      "('Road Frames', 'LL Road Frame - Black, 58')\n",
      "('Road Frames', 'LL Road Frame - Black, 60')\n",
      "('Road Frames', 'LL Road Frame - Black, 62')\n"
     ]
    }
   ],
   "source": [
    "cursor.execute(\"\"\"SELECT TOP 20 pc.Name as CategoryName, p.name as ProductName\n",
    "FROM SalesLT.ProductCategory pc\n",
    "JOIN SalesLT.Product p\n",
    "ON pc.productcategoryid = p.productcategoryid;\"\"\")\n",
    "row = cursor.fetchone()\n",
    "print(\"Category name, Product name\")\n",
    "while row:\n",
    "    print(row)\n",
    "    row=cursor.fetchone()"
   ]
  }
 ],
 "metadata": {
  "kernelspec": {
   "display_name": "Python 3",
   "language": "python",
   "name": "python3"
  },
  "language_info": {
   "codemirror_mode": {
    "name": "ipython",
    "version": 3
   },
   "file_extension": ".py",
   "mimetype": "text/x-python",
   "name": "python",
   "nbconvert_exporter": "python",
   "pygments_lexer": "ipython3",
   "version": "3.10.12"
  },
  "orig_nbformat": 4
 },
 "nbformat": 4,
 "nbformat_minor": 2
}
